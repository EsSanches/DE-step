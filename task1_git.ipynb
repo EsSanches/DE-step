{
  "nbformat": 4,
  "nbformat_minor": 0,
  "metadata": {
    "colab": {
      "provenance": [],
      "authorship_tag": "ABX9TyNN6hQkARgUtoEAterTlY1D",
      "include_colab_link": true
    },
    "kernelspec": {
      "name": "python3",
      "display_name": "Python 3"
    },
    "language_info": {
      "name": "python"
    }
  },
  "cells": [
    {
      "cell_type": "markdown",
      "metadata": {
        "id": "view-in-github",
        "colab_type": "text"
      },
      "source": [
        "<a href=\"https://colab.research.google.com/github/EsSanches/DE-step/blob/main/task1_git.ipynb\" target=\"_parent\"><img src=\"https://colab.research.google.com/assets/colab-badge.svg\" alt=\"Open In Colab\"/></a>"
      ]
    },
    {
      "cell_type": "code",
      "execution_count": null,
      "metadata": {
        "id": "Ri0yl6_UKFpU"
      },
      "outputs": [],
      "source": [
        "from pyspark.sql.functions import col, to_date, sum, avg, month, year\n",
        "from pyspark.sql.functions import *\n",
        "import csv\n",
        "from faker import Faker\n",
        "import random\n",
        "\n",
        "spark = SparkSession.builder.appName(\"task_spark\").getOrCreate()\n",
        "\n",
        "\n",
        "# Сгенерировать 100,000 записей логов и сохранили их в CSV-файл\n",
        "fake = Faker()\n",
        "\n",
        "num_records = 100000\n",
        "\n",
        "http_methods = ['GET', 'POST', 'PUT', 'DELETE']\n",
        "response_codes = [200, 301, 404, 500]\n",
        "\n",
        "file_path = \"web_server_logs.csv\"\n",
        "\n",
        "with open(file_path, mode='w', newline='') as file:\n",
        "    writer = csv.writer(file)\n",
        "    writer.writerow(['ip', 'timestamp', 'method', 'url', 'response_code', 'response_size'])\n",
        "\n",
        "    for _ in range(num_records):\n",
        "        ip = fake.ipv4()\n",
        "        timestamp = fake.date_time_this_year().isoformat()\n",
        "        method = random.choice(http_methods)\n",
        "        url = fake.uri_path()\n",
        "        response_code = random.choice(response_codes)\n",
        "        response_size = random.randint(100, 10000)\n",
        "\n",
        "        writer.writerow([ip, timestamp, method, url, response_code, response_size])\n",
        "\n",
        "print(f\"Сгенерировано {num_records} записей и сохранено в {file_path}\")\n",
        "\n",
        "\n",
        "logs_df = spark.read.csv(\"web_server_logs.csv\", header=True, inferSchema=True)\n",
        "logs_df.printSchema()\n",
        "\n",
        "#1. Сгруппировать данные по IP и посчитайть количество запросов для каждого IP, выводим 10 самых активных IP.\n",
        "top_ip = logs_df.groupBy(\"ip\").count().orderBy(col(\"count\").desc()).limit(10).withColumnRenamed(\"count\", \"request_count\")\n",
        "top_ip.show()\n",
        "\n",
        "#2. Сгруппировать данные по HTTP-методу и посчитать количество запросов для каждого метода.\n",
        "top_methods = logs_df.groupBy(\"method\").count().orderBy(col(\"count\").desc()).withColumnRenamed(\"count\", \"method_count\")\n",
        "top_methods.show()\n",
        "\n",
        "\n",
        "#3. Профильтровать и посчитать количество запросов с кодом ответа 404.\n",
        "count_request = logs_df.filter(col(\"response_code\") == 404).count()\n",
        "count_request\n",
        "\n",
        "\n",
        "#4. Сгруппировать данные по дате и просуммировать размер ответов, сортировка по дате.\n",
        "total_resp = logs_df.withColumn(\"date\", to_date(col(\"timestamp\"))).groupBy(\"date\").agg(sum(col(\"response_size\")).alias(\"total_response_size\"))\\\n",
        ".orderBy(col(\"date\")).show()\n",
        "\n",
        "spark.stop()\n",
        "\n",
        "\n"
      ]
    }
  ]
}