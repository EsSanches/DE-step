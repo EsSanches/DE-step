{
  "nbformat": 4,
  "nbformat_minor": 0,
  "metadata": {
    "colab": {
      "provenance": [],
      "authorship_tag": "ABX9TyPQhHPx0Ky58pKYsFIQOoqY",
      "include_colab_link": true
    },
    "kernelspec": {
      "name": "python3",
      "display_name": "Python 3"
    },
    "language_info": {
      "name": "python"
    }
  },
  "cells": [
    {
      "cell_type": "markdown",
      "metadata": {
        "id": "view-in-github",
        "colab_type": "text"
      },
      "source": [
        "<a href=\"https://colab.research.google.com/github/EsSanches/DE-step/blob/main/Task_spark_2_git.ipynb\" target=\"_parent\"><img src=\"https://colab.research.google.com/assets/colab-badge.svg\" alt=\"Open In Colab\"/></a>"
      ]
    },
    {
      "cell_type": "code",
      "execution_count": null,
      "metadata": {
        "id": "eKexgysnNXee"
      },
      "outputs": [],
      "source": [
        "from pyspark.sql.functions import col, concat, lit, when, rand, current_date, date_add, date_format\n",
        "import os\n",
        "from inspect import currentframe\n",
        "from datetime import datetime, timedelta\n",
        "\n",
        "\n",
        "spark = SparkSession.builder.appName(\"task_spark_2\").getOrCreate()\n",
        "\n",
        "\n",
        "# Ввод числа генерируемых данных\n",
        "while True:\n",
        "    try:\n",
        "        u_input = int(input(\"Введите положительное, целое число: \"))\n",
        "        if u_input < 1:\n",
        "            raise Exception()\n",
        "        print(\"Вы ввели\", u_input)\n",
        "        break\n",
        "    except Exception as e:\n",
        "        print('Неверный формат')\n",
        "\n",
        "\n",
        "# заполнение и создание колонок id, name, email, city, age, salary, registration_date)\n",
        "date = [(i, f\"Name_{i}\", f\"City_n_{i}\") for i in range(1, u_input + 1)]\n",
        "df = spark.createDataFrame(date, [\"id\", \"name\", \"city\"])\n",
        "df.show()\n",
        "\n",
        "\n",
        "#добавление колонок\n",
        "df = df.withColumn(\"email\", concat(col(\"name\"), lit(\"@example.\"), when(col(\"id\") % 2 == 0, \"ru\").otherwise(\"com\")))\\\n",
        "  .withColumn(\"age\", (rand() * 75 + 18).cast(\"int\")).withColumn(\"salary\", (rand() * 100000 + 20000).cast(\"int\"))\\\n",
        "  .withColumn(\"registration_date\", date_add(current_date(), - (rand() * (col(\"age\") - 18)).cast(\"int\") * 365))\n",
        "\n",
        "\n",
        "# Замена 5% данных на значение NULL\n",
        "columns = [\"name\", \"email\", \"city\", \"age\", \"salary\", \"registration_date\"]\n",
        "df = df.select(\"id\", *[when(rand() <= 0.05, None).otherwise(col(column)).alias(column) for column in columns])\n",
        "df.show()\n",
        "\n",
        "\n",
        "# Установка текущей даты для имени файла\n",
        "df_date = spark.sql(\"SELECT current_date()\")\n",
        "current_date = df_date.select(date_format(\"current_date\", \"yyyy-MM-dd\")).first()[0]\n",
        "\n",
        "\n",
        "# получаем текущую дату и время\n",
        "cur_date = datetime.now().strftime(\"%Y-%m-%d_%H-%M-%S\")\n",
        "\n",
        "# сохряняем датафрейм в единый файл\n",
        "output_path = f\"{cur_date}-dev.csv\"\n",
        "df.coalesce(1).write.mode(\"overwrite\").csv(output_path, header=True)\n",
        "\n",
        "# переименовываем csv файл\n",
        "csv_file = [f for f in os.listdir(output_path) if f.endswith('.csv')]\n",
        "old_file_name = csv_file[0]\n",
        "old_file_path = os.path.join(output_path, old_file_name)\n",
        "new_file_name = f\"{cur_date}-dev.csv\"\n",
        "new_file_path = os.path.join(output_path, new_file_name)\n",
        "\n",
        "os.rename(old_file_path, new_file_path)\n",
        "\n",
        "print(f'CSV файл сохранен по пути: {output_path}')"
      ]
    }
  ]
}
